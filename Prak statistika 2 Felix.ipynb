{
 "cells": [
  {
   "cell_type": "code",
   "execution_count": 2,
   "id": "d3ede79c",
   "metadata": {},
   "outputs": [
    {
     "name": "stdout",
     "output_type": "stream",
     "text": [
      "[1, 2, -5, 0.3, 6, -2, 4]\n",
      "['one', 'two', 'three']\n",
      "[True, True, True, False, True]\n"
     ]
    }
   ],
   "source": [
    "a = [1, 2, -5, 0.3, 6, -2, 4]\n",
    "b = [\"one\", \"two\",\"three\"]\n",
    "c = [True, True, True, False, True]\n",
    "print(a)\n",
    "print(b)\n",
    "print(c)"
   ]
  },
  {
   "cell_type": "code",
   "execution_count": 3,
   "id": "03a83273",
   "metadata": {},
   "outputs": [
    {
     "name": "stdout",
     "output_type": "stream",
     "text": [
      "[[  3  15]\n",
      " [-27  38]]\n"
     ]
    }
   ],
   "source": [
    "import numpy as np\n",
    "cells = [3, 15, -27, 38]\n",
    "r_felix = [\"R1\", \"R2\"]\n",
    "c_felix = [\"C1\", \"C2\"]\n",
    "felix_matrix = np.matrix(cells).reshape(2,2)\n",
    "print(felix_matrix)"
   ]
  },
  {
   "cell_type": "code",
   "execution_count": 4,
   "id": "b4a4cdab",
   "metadata": {},
   "outputs": [
    {
     "name": "stdout",
     "output_type": "stream",
     "text": [
      "   ID  Color  Passed\n",
      "0   1    red    True\n",
      "1   2  white    True\n",
      "2   3    red    True\n",
      "3   4    NaN   False\n"
     ]
    }
   ],
   "source": [
    "import pandas as pd\n",
    "import numpy as np\n",
    "\n",
    "felix1 = [1,2,3,4]\n",
    "felix2 = ['red', 'white', 'red', np.nan]\n",
    "felix3 = [True, True, True, False]\n",
    "\n",
    "dataku = pd.DataFrame({'ID': felix1, 'Color': felix2, 'Passed':felix3})\n",
    "print(dataku)"
   ]
  },
  {
   "cell_type": "code",
   "execution_count": 5,
   "id": "49322370",
   "metadata": {},
   "outputs": [
    {
     "name": "stdout",
     "output_type": "stream",
     "text": [
      "  ID   X   Y\n",
      "0  a   1  11\n",
      "1  b   2  12\n",
      "2  c   3  13\n",
      "3  d   4  14\n",
      "4  e   5  15\n",
      "5  f   6  16\n",
      "6  g   7  17\n",
      "7  h   8  18\n",
      "8  i   9  19\n",
      "9  j  10  20\n"
     ]
    }
   ],
   "source": [
    "import pandas as pd\n",
    "data_felix = pd.DataFrame({'ID': list('abcdefghij'), 'X': list(range(1, 11)), 'Y': list(range(11, 21))})\n",
    "print(data_felix)"
   ]
  },
  {
   "cell_type": "code",
   "execution_count": 6,
   "id": "5c4e0d8b",
   "metadata": {},
   "outputs": [
    {
     "name": "stdout",
     "output_type": "stream",
     "text": [
      "Collecting mysql-connector-python\n",
      "  Obtaining dependency information for mysql-connector-python from https://files.pythonhosted.org/packages/d9/91/007a0d60fee8db4f7385075dc50bf62d2d359b417b374ec06b06ce6c2d64/mysql_connector_python-8.3.0-cp311-cp311-win_amd64.whl.metadata\n",
      "  Downloading mysql_connector_python-8.3.0-cp311-cp311-win_amd64.whl.metadata (2.0 kB)\n",
      "Downloading mysql_connector_python-8.3.0-cp311-cp311-win_amd64.whl (15.4 MB)\n",
      "   ---------------------------------------- 0.0/15.4 MB ? eta -:--:--\n",
      "    --------------------------------------- 0.2/15.4 MB 4.2 MB/s eta 0:00:04\n",
      "   - -------------------------------------- 0.6/15.4 MB 6.6 MB/s eta 0:00:03\n",
      "   -- ------------------------------------- 1.1/15.4 MB 7.5 MB/s eta 0:00:02\n",
      "   --- ------------------------------------ 1.5/15.4 MB 7.8 MB/s eta 0:00:02\n",
      "   ----- ---------------------------------- 2.0/15.4 MB 8.4 MB/s eta 0:00:02\n",
      "   ------ --------------------------------- 2.5/15.4 MB 9.2 MB/s eta 0:00:02\n",
      "   ------- -------------------------------- 3.0/15.4 MB 9.7 MB/s eta 0:00:02\n",
      "   --------- ------------------------------ 3.7/15.4 MB 9.8 MB/s eta 0:00:02\n",
      "   ---------- ----------------------------- 4.1/15.4 MB 9.8 MB/s eta 0:00:02\n",
      "   ------------ --------------------------- 4.6/15.4 MB 9.9 MB/s eta 0:00:02\n",
      "   ------------- -------------------------- 5.1/15.4 MB 10.2 MB/s eta 0:00:02\n",
      "   -------------- ------------------------- 5.5/15.4 MB 9.7 MB/s eta 0:00:02\n",
      "   --------------- ------------------------ 6.0/15.4 MB 10.0 MB/s eta 0:00:01\n",
      "   ---------------- ----------------------- 6.5/15.4 MB 10.1 MB/s eta 0:00:01\n",
      "   ------------------ --------------------- 7.1/15.4 MB 10.0 MB/s eta 0:00:01\n",
      "   ------------------- -------------------- 7.6/15.4 MB 10.4 MB/s eta 0:00:01\n",
      "   --------------------- ------------------ 8.2/15.4 MB 10.4 MB/s eta 0:00:01\n",
      "   ---------------------- ----------------- 8.7/15.4 MB 10.5 MB/s eta 0:00:01\n",
      "   ----------------------- ---------------- 9.2/15.4 MB 10.3 MB/s eta 0:00:01\n",
      "   ------------------------- -------------- 9.9/15.4 MB 10.6 MB/s eta 0:00:01\n",
      "   --------------------------- ------------ 10.4/15.4 MB 10.9 MB/s eta 0:00:01\n",
      "   ---------------------------- ----------- 11.0/15.4 MB 11.3 MB/s eta 0:00:01\n",
      "   ----------------------------- ---------- 11.4/15.4 MB 11.3 MB/s eta 0:00:01\n",
      "   ------------------------------- -------- 12.0/15.4 MB 11.3 MB/s eta 0:00:01\n",
      "   -------------------------------- ------- 12.4/15.4 MB 11.3 MB/s eta 0:00:01\n",
      "   ---------------------------------- ----- 13.1/15.4 MB 11.3 MB/s eta 0:00:01\n",
      "   ----------------------------------- ---- 13.7/15.4 MB 11.5 MB/s eta 0:00:01\n",
      "   ------------------------------------- -- 14.3/15.4 MB 11.7 MB/s eta 0:00:01\n",
      "   -------------------------------------- - 14.9/15.4 MB 11.7 MB/s eta 0:00:01\n",
      "   ---------------------------------------  15.4/15.4 MB 11.9 MB/s eta 0:00:01\n",
      "   ---------------------------------------- 15.4/15.4 MB 11.3 MB/s eta 0:00:00\n",
      "Installing collected packages: mysql-connector-python\n",
      "Successfully installed mysql-connector-python-8.3.0\n",
      "Note: you may need to restart the kernel to use updated packages.\n"
     ]
    }
   ],
   "source": [
    "pip install mysql-connector-python"
   ]
  },
  {
   "cell_type": "code",
   "execution_count": 9,
   "id": "410bdcc5",
   "metadata": {},
   "outputs": [
    {
     "name": "stdout",
     "output_type": "stream",
     "text": [
      "\n",
      "Hasil query:\n",
      "(114300, 1790, 2, 2, 2, 'No', 'East')\n",
      "(114200, 2030, 4, 2, 3, 'No', 'East')\n",
      "(114800, 1740, 3, 2, 1, 'No', 'East')\n",
      "(94700, 1980, 3, 2, 3, 'No', 'East')\n",
      "(119800, 2130, 3, 3, 3, 'No', 'East')\n",
      "(114600, 1780, 3, 2, 2, 'No', 'North')\n",
      "(151600, 1830, 3, 3, 3, 'Yes', 'West')\n",
      "(150700, 2160, 4, 2, 2, 'No', 'West')\n",
      "(119200, 2110, 4, 2, 3, 'No', 'East')\n",
      "(104000, 1730, 3, 3, 3, 'No', 'East')\n",
      "(132500, 2030, 3, 2, 3, 'Yes', 'East')\n",
      "(123000, 1870, 2, 2, 2, 'Yes', 'East')\n",
      "(102600, 1910, 3, 2, 4, 'No', 'North')\n",
      "(126300, 2150, 3, 3, 5, 'Yes', 'North')\n",
      "(176800, 2590, 4, 3, 4, 'No', 'West')\n",
      "(145800, 1780, 4, 2, 1, 'No', 'West')\n",
      "(147100, 2190, 3, 3, 4, 'Yes', 'East')\n",
      "(83600, 1990, 3, 3, 4, 'No', 'North')\n",
      "(111400, 1700, 2, 2, 1, 'Yes', 'East')\n",
      "(167200, 1920, 3, 3, 2, 'Yes', 'West')\n",
      "(116200, 1790, 3, 2, 3, 'No', 'East')\n",
      "(113800, 2000, 3, 2, 4, 'No', 'North')\n",
      "(91700, 1690, 3, 2, 3, 'No', 'North')\n",
      "(106100, 1820, 3, 2, 3, 'Yes', 'North')\n",
      "(156400, 2210, 4, 3, 2, 'Yes', 'East')\n",
      "(149300, 2290, 4, 3, 3, 'No', 'North')\n",
      "(137000, 2000, 4, 2, 3, 'No', 'West')\n",
      "(99300, 1700, 3, 2, 2, 'No', 'East')\n",
      "(69100, 1600, 2, 2, 3, 'No', 'North')\n",
      "(188000, 2040, 4, 3, 1, 'Yes', 'West')\n",
      "(182000, 2250, 4, 3, 3, 'Yes', 'West')\n",
      "(112300, 1930, 2, 2, 2, 'Yes', 'North')\n",
      "(135000, 2250, 3, 3, 3, 'Yes', 'East')\n",
      "(139600, 2280, 5, 3, 4, 'Yes', 'East')\n",
      "(117800, 2000, 2, 2, 3, 'No', 'North')\n",
      "(117100, 2080, 3, 3, 3, 'No', 'North')\n",
      "(117500, 1880, 2, 2, 2, 'No', 'North')\n",
      "(147000, 2420, 4, 3, 4, 'No', 'West')\n",
      "(131300, 1720, 3, 2, 1, 'No', 'West')\n",
      "(108200, 1740, 3, 2, 2, 'No', 'North')\n",
      "(106600, 1560, 2, 2, 1, 'No', 'East')\n",
      "(133600, 1840, 4, 3, 2, 'No', 'West')\n",
      "(105600, 1990, 2, 2, 3, 'No', 'East')\n",
      "(154000, 1920, 3, 2, 1, 'Yes', 'East')\n",
      "(166500, 1940, 3, 3, 2, 'Yes', 'West')\n",
      "(103200, 1810, 3, 2, 3, 'No', 'East')\n",
      "(129800, 1990, 2, 3, 2, 'No', 'North')\n",
      "(90300, 2050, 3, 2, 6, 'No', 'North')\n",
      "(115900, 1980, 2, 2, 2, 'No', 'East')\n",
      "(107500, 1700, 3, 2, 3, 'Yes', 'North')\n",
      "(151100, 2100, 3, 2, 3, 'Yes', 'East')\n",
      "(91100, 1860, 2, 2, 3, 'No', 'North')\n",
      "(117400, 2150, 2, 3, 4, 'No', 'North')\n",
      "(130800, 2100, 3, 2, 3, 'No', 'North')\n",
      "(81300, 1650, 3, 2, 3, 'No', 'North')\n",
      "(125700, 1720, 2, 2, 2, 'Yes', 'East')\n",
      "(140900, 2190, 3, 2, 3, 'Yes', 'East')\n",
      "(152300, 2240, 4, 3, 3, 'No', 'West')\n",
      "(138100, 1840, 3, 3, 1, 'No', 'West')\n",
      "(155400, 2090, 4, 2, 1, 'No', 'West')\n",
      "(180900, 2200, 3, 3, 1, 'No', 'West')\n",
      "(100900, 1610, 2, 2, 2, 'No', 'North')\n",
      "(161300, 2220, 4, 3, 2, 'No', 'West')\n",
      "(120500, 1910, 2, 3, 2, 'No', 'East')\n",
      "(130300, 1860, 3, 2, 2, 'No', 'West')\n",
      "(111100, 1450, 2, 2, 1, 'Yes', 'North')\n",
      "(126200, 2210, 3, 3, 4, 'No', 'North')\n",
      "(151900, 2040, 4, 3, 3, 'No', 'East')\n",
      "(93600, 2140, 3, 2, 4, 'No', 'North')\n",
      "(165600, 2080, 4, 3, 3, 'No', 'West')\n",
      "(166700, 1950, 3, 3, 3, 'Yes', 'West')\n",
      "(157600, 2160, 4, 2, 1, 'No', 'West')\n",
      "(107300, 1650, 3, 2, 3, 'No', 'North')\n",
      "(125700, 2040, 3, 3, 2, 'No', 'East')\n",
      "(144200, 2140, 3, 3, 3, 'No', 'West')\n",
      "(106900, 1900, 2, 2, 2, 'No', 'North')\n",
      "(129800, 1930, 3, 2, 2, 'No', 'West')\n",
      "(176500, 2280, 4, 3, 3, 'Yes', 'West')\n",
      "(121300, 2130, 3, 2, 3, 'No', 'North')\n",
      "(143600, 1780, 4, 2, 1, 'No', 'West')\n",
      "(143400, 2190, 3, 3, 4, 'Yes', 'East')\n",
      "(184300, 2140, 4, 3, 2, 'Yes', 'West')\n",
      "(164800, 2050, 2, 2, 1, 'Yes', 'West')\n",
      "(147700, 2410, 3, 3, 2, 'No', 'East')\n",
      "(90500, 1520, 2, 2, 3, 'No', 'North')\n",
      "(188300, 2250, 4, 3, 2, 'Yes', 'West')\n",
      "(102700, 1900, 4, 2, 4, 'No', 'North')\n",
      "(172500, 1880, 3, 3, 1, 'Yes', 'West')\n",
      "(127700, 1930, 3, 3, 2, 'No', 'North')\n",
      "(97800, 2010, 2, 2, 4, 'No', 'North')\n",
      "(143100, 1920, 4, 2, 2, 'No', 'West')\n",
      "(116500, 2150, 3, 2, 2, 'No', 'East')\n",
      "(142600, 2110, 3, 2, 2, 'No', 'West')\n",
      "(157100, 2080, 3, 3, 2, 'No', 'East')\n",
      "(160600, 2150, 4, 3, 3, 'Yes', 'West')\n",
      "(152500, 1970, 2, 2, 1, 'Yes', 'West')\n",
      "(133300, 2440, 3, 3, 3, 'No', 'East')\n",
      "(126800, 2000, 2, 2, 1, 'Yes', 'East')\n",
      "(145500, 2060, 3, 2, 1, 'No', 'West')\n",
      "(171000, 2080, 3, 3, 2, 'Yes', 'West')\n",
      "(103200, 2010, 3, 2, 5, 'No', 'North')\n",
      "(123100, 2260, 3, 3, 5, 'No', 'East')\n",
      "(136800, 2410, 3, 3, 4, 'No', 'East')\n",
      "(211200, 2440, 4, 3, 3, 'Yes', 'West')\n",
      "(82300, 1910, 3, 2, 4, 'No', 'East')\n",
      "(146900, 2530, 4, 3, 4, 'No', 'West')\n",
      "(108500, 2130, 3, 2, 4, 'No', 'North')\n",
      "(134000, 1890, 3, 2, 1, 'Yes', 'East')\n",
      "(117000, 1990, 3, 3, 3, 'Yes', 'East')\n",
      "(108700, 2110, 3, 2, 3, 'No', 'East')\n",
      "(111600, 1710, 2, 2, 1, 'No', 'North')\n",
      "(114900, 1740, 2, 2, 2, 'No', 'North')\n",
      "(123600, 1940, 2, 2, 2, 'Yes', 'East')\n",
      "(115700, 2000, 3, 2, 3, 'Yes', 'North')\n",
      "(124500, 2010, 4, 3, 2, 'No', 'East')\n",
      "(102500, 1900, 3, 3, 3, 'No', 'North')\n",
      "(199500, 2290, 5, 4, 1, 'Yes', 'West')\n",
      "(117800, 1920, 3, 2, 2, 'No', 'North')\n",
      "(150200, 1950, 3, 2, 3, 'Yes', 'North')\n",
      "(109700, 1920, 2, 2, 4, 'No', 'North')\n",
      "(110400, 1930, 2, 3, 3, 'No', 'North')\n",
      "(105600, 1930, 3, 3, 3, 'No', 'East')\n",
      "(144800, 2060, 2, 2, 1, 'Yes', 'East')\n",
      "(119700, 1900, 3, 3, 3, 'Yes', 'East')\n",
      "(147900, 2160, 4, 3, 3, 'Yes', 'East')\n",
      "(113500, 2070, 2, 2, 2, 'No', 'North')\n",
      "(149900, 2020, 3, 3, 1, 'No', 'West')\n",
      "(124600, 2250, 3, 3, 4, 'No', 'North')\n"
     ]
    }
   ],
   "source": [
    "import mysql.connector\n",
    "\n",
    "connection = mysql.connector.connect(\n",
    "host='localhost',\n",
    "user='root',\n",
    "password='',\n",
    "database='houseprices'\n",
    ")\n",
    "\n",
    "cursor = connection.cursor()\n",
    "\n",
    "try:\n",
    "    my_query = \"SELECT*FROM houseprices___houseprices;\"\n",
    "    cursor.execute(my_query)\n",
    "    \n",
    "    result = cursor.fetchall()\n",
    "    \n",
    "    print('\\nHasil query:')\n",
    "    \n",
    "    for row in result:\n",
    "        print(row)\n",
    "        \n",
    "finally:\n",
    "    cursor.close()\n",
    "    connection.close()"
   ]
  },
  {
   "cell_type": "code",
   "execution_count": 12,
   "id": "14241a54",
   "metadata": {},
   "outputs": [
    {
     "name": "stdout",
     "output_type": "stream",
     "text": [
      "\n",
      "Hasil Filter:\n",
      "      Price  SqFt  Bedrooms  Bathrooms  Offers Brick Neighborhood\n",
      "0    114300  1790         2          2       2    No         East\n",
      "1    114200  2030         4          2       3    No         East\n",
      "2    114800  1740         3          2       1    No         East\n",
      "3     94700  1980         3          2       3    No         East\n",
      "4    119800  2130         3          3       3    No         East\n",
      "..      ...   ...       ...        ...     ...   ...          ...\n",
      "120  110400  1930         2          3       3    No        North\n",
      "121  105600  1930         3          3       3    No         East\n",
      "125  113500  2070         2          2       2    No        North\n",
      "126  149900  2020         3          3       1    No         West\n",
      "127  124600  2250         3          3       4    No        North\n",
      "\n",
      "[86 rows x 7 columns]\n"
     ]
    }
   ],
   "source": [
    "import pandas as pd \n",
    "df = pd.DataFrame(result, columns=[desc[0] for desc in cursor.description])\n",
    "\n",
    "df_filtered = df[df['Brick'] == 'No']\n",
    "\n",
    "print('\\nHasil Filter:')\n",
    "print(df_filtered)"
   ]
  },
  {
   "cell_type": "code",
   "execution_count": 14,
   "id": "528b4448",
   "metadata": {},
   "outputs": [
    {
     "name": "stdout",
     "output_type": "stream",
     "text": [
      "\n",
      "Hasil Filter:\n",
      "      Price  SqFt  Bedrooms  Bathrooms  Offers Brick Neighborhood\n",
      "0    114300  1790         2          2       2    No         East\n",
      "1    114200  2030         4          2       3    No         East\n",
      "2    114800  1740         3          2       1    No         East\n",
      "3     94700  1980         3          2       3    No         East\n",
      "4    119800  2130         3          3       3    No         East\n",
      "..      ...   ...       ...        ...     ...   ...          ...\n",
      "118  150200  1950         3          2       3   Yes        North\n",
      "121  105600  1930         3          3       3    No         East\n",
      "122  144800  2060         2          2       1   Yes         East\n",
      "123  119700  1900         3          3       3   Yes         East\n",
      "124  147900  2160         4          3       3   Yes         East\n",
      "\n",
      "[68 rows x 7 columns]\n"
     ]
    }
   ],
   "source": [
    "import pandas as pd \n",
    "df = pd.DataFrame(result, columns=[desc[0] for desc in cursor.description])\n",
    "\n",
    "df_filtered = df[(df['Brick'] == 'Yes') | (df['Neighborhood'] == 'East')]\n",
    "\n",
    "print('\\nHasil Filter:')\n",
    "print(df_filtered)"
   ]
  },
  {
   "cell_type": "code",
   "execution_count": 1,
   "id": "57f86bb2",
   "metadata": {},
   "outputs": [
    {
     "name": "stdout",
     "output_type": "stream",
     "text": [
      "\n",
      "Hasil query:\n",
      "('felix', 65002300001, '1/1/2005', 171, 'p')\n",
      "('dewanto', 65002300002, '1/2/2005', 165, 'p')\n",
      "('bambang', 65002300003, '1/3/2005', 175, 'p')\n",
      "('rayyan', 65002300004, '1/4/2005', 172, 'p')\n",
      "('bayu', 65002300005, '1/5/2005', 130, 'p')\n",
      "('vira', 65002300006, '1/5/2005', 175, 'p')\n",
      "('adit', 65002300007, '1/5/2005', 163, 'p')\n",
      "('rayhan', 65002300008, '1/5/2005', 180, 'p')\n",
      "('jett', 65002300009, '1/5/2005', 158, 'p')\n",
      "('imam', 65002300010, '1/5/2005', 170, 'p')\n",
      "('faiz', 65002300011, '1/5/2005', 168, 'p')\n",
      "('dony', 65002300012, '1/5/2005', 185, 'p')\n",
      "('monic', 65002300013, '1/5/2005', 155, 'w')\n",
      "('syifa', 65002300014, '1/5/2005', 169, 'w')\n",
      "('daniel', 65002300015, '1/5/2005', 160, 'p')\n",
      "('naya', 65002300016, '1/3/2005', 172, 'w')\n",
      "('putri', 65002300017, '1/3/2005', 130, 'w')\n",
      "('ranggi', 65002300018, '1/3/2005', 175, 'p')\n",
      "('nadhira', 65002300019, '1/3/2005', 163, 'w')\n",
      "('dafa', 65002300020, '1/3/2005', 180, 'p')\n"
     ]
    }
   ],
   "source": [
    "import mysql.connector\n",
    "\n",
    "connection = mysql.connector.connect(\n",
    "host='localhost',\n",
    "user='root',\n",
    "password='',\n",
    "database='ps2[felix]'\n",
    ")\n",
    "\n",
    "cursor = connection.cursor()\n",
    "\n",
    "try:\n",
    "    my_query = \"SELECT*FROM data_mahasiswa___sheet1;\"\n",
    "    cursor.execute(my_query)\n",
    "    \n",
    "    result = cursor.fetchall()\n",
    "    \n",
    "    print('\\nHasil query:')\n",
    "    \n",
    "    for row in result:\n",
    "        print(row)\n",
    "        \n",
    "finally:\n",
    "    cursor.close()\n",
    "    connection.close()"
   ]
  },
  {
   "cell_type": "code",
   "execution_count": 2,
   "id": "d8e506df",
   "metadata": {},
   "outputs": [
    {
     "name": "stdout",
     "output_type": "stream",
     "text": [
      "\n",
      "Hasil Filter:\n",
      "       nama          nim       ttl  tinggi gender\n",
      "12    monic  65002300013  1/5/2005     155      w\n",
      "13    syifa  65002300014  1/5/2005     169      w\n",
      "15     naya  65002300016  1/3/2005     172      w\n",
      "16    putri  65002300017  1/3/2005     130      w\n",
      "18  nadhira  65002300019  1/3/2005     163      w\n"
     ]
    }
   ],
   "source": [
    "import pandas as pd \n",
    "df = pd.DataFrame(result, columns=[desc[0] for desc in cursor.description])\n",
    "\n",
    "df_filtered = df[df['gender'] == 'w']\n",
    "\n",
    "print('\\nHasil Filter:')\n",
    "print(df_filtered)"
   ]
  },
  {
   "cell_type": "code",
   "execution_count": null,
   "id": "f2aefd77",
   "metadata": {},
   "outputs": [],
   "source": []
  }
 ],
 "metadata": {
  "kernelspec": {
   "display_name": "Python 3 (ipykernel)",
   "language": "python",
   "name": "python3"
  },
  "language_info": {
   "codemirror_mode": {
    "name": "ipython",
    "version": 3
   },
   "file_extension": ".py",
   "mimetype": "text/x-python",
   "name": "python",
   "nbconvert_exporter": "python",
   "pygments_lexer": "ipython3",
   "version": "3.11.4"
  }
 },
 "nbformat": 4,
 "nbformat_minor": 5
}
